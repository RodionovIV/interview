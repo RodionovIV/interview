{
  "nbformat": 4,
  "nbformat_minor": 0,
  "metadata": {
    "colab": {
      "provenance": []
    },
    "kernelspec": {
      "name": "python3",
      "display_name": "Python 3"
    },
    "language_info": {
      "name": "python"
    }
  },
  "cells": [
    {
      "cell_type": "markdown",
      "source": [
        "<h1>Задание №1</h1>\n",
        "<font size=\"4\">Напишите функцию, которая проверяет, является ли строка палиндромом</font>\n",
        "\n"
      ],
      "metadata": {
        "id": "9aqK7rvoLxDM"
      }
    },
    {
      "cell_type": "code",
      "source": [
        "def is_palindrom(s:str)->bool:\n",
        "  #YOUR CODE HERE"
      ],
      "metadata": {
        "id": "nBenBQkgL5Rc"
      },
      "execution_count": null,
      "outputs": []
    },
    {
      "cell_type": "markdown",
      "source": [
        "<h1>Задание 2</h1>\n",
        "<font size=\"4\">В файле task.csv приведены записи событий установки приложения (install) и начала сессии (login). Необходимо: </font>\n",
        "<ol>\n",
        "  <li>Для каждого пользователя получить дату первой установки</li>\n",
        "  <li>Какая доля пользователей установила приложение имела успешный логин? (<em>опционально</em>)\n",
        "  </li>\n"
      ],
      "metadata": {
        "id": "dIkrme8fMGWD"
      }
    },
    {
      "cell_type": "code",
      "source": [
        "import numpy as np\n",
        "import pandas as pd\n",
        "import datetime\n",
        "\n",
        "url='https://drive.google.com/file/d/1MlJwPqiyPzw2HNreiZCfrNAzrMw1ou_h/view?usp=share_link'\n",
        "\n",
        "#YOUR CODE HERE"
      ],
      "metadata": {
        "id": "kXeylCGuPWw1"
      },
      "execution_count": 5,
      "outputs": []
    }
  ]
}