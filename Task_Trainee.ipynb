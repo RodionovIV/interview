{
 "cells": [
  {
   "cell_type": "code",
   "execution_count": null,
   "metadata": {},
   "outputs": [],
   "source": [
    "# ! pip install pandas seaborn scipy"
   ]
  },
  {
   "cell_type": "markdown",
   "metadata": {
    "id": "9aqK7rvoLxDM"
   },
   "source": [
    "## Задание №1\n",
    "\n",
    "<font size=2>Напишите функцию, которая проверяет, является ли строка палиндромом </font>\n",
    "\n"
   ]
  },
  {
   "cell_type": "code",
   "execution_count": null,
   "metadata": {
    "id": "nBenBQkgL5Rc"
   },
   "outputs": [],
   "source": [
    "def is_palindrom(s:str)->bool:\n",
    "    #YOUR CODE HERE"
   ]
  },
  {
   "cell_type": "code",
   "execution_count": null,
   "metadata": {},
   "outputs": [],
   "source": [
    "assert is_palindrom(\"А роза упала на лапу азора\"), \"TEST #1\"\n",
    "assert is_palindrom(\"Лёша на полке клопа нашёл\"), \"TEST #2\"\n",
    "assert not is_palindrom(\"Abcde\"), \"TEST #3\""
   ]
  },
  {
   "cell_type": "markdown",
   "metadata": {
    "id": "dIkrme8fMGWD"
   },
   "source": [
    "## Задание 2\n",
    "\n",
    "<font size=\"2\">В файле task2.csv приведены записи событий установки приложения (install) и начала сессии (login). Необходимо:</font> \n",
    "    \n",
    "1. Для каждого пользователя получить дату первой установки.\n",
    "2. Какая доля пользователей установила приложение и успешно залогинилась в течение суток после момента установки?\n"
   ]
  },
  {
   "cell_type": "code",
   "execution_count": null,
   "metadata": {},
   "outputs": [],
   "source": [
    "! wget --no-check-certificate 'https://docs.google.com/uc?export=download&id=1MlJwPqiyPzw2HNreiZCfrNAzrMw1ou_h' -O 'task2.csv'\n",
    "url='https://drive.google.com/file/d/1MlJwPqiyPzw2HNreiZCfrNAzrMw1ou_h/view?usp=share_link'"
   ]
  },
  {
   "cell_type": "code",
   "execution_count": null,
   "metadata": {},
   "outputs": [],
   "source": [
    "import numpy as np\n",
    "import pandas as pd\n",
    "import datetime\n",
    "\n",
    "#YOUR CODE HERE"
   ]
  }
 ],
 "metadata": {
  "colab": {
   "provenance": []
  },
  "kernelspec": {
   "display_name": "Python 3 (ipykernel)",
   "language": "python",
   "name": "python3"
  },
  "language_info": {
   "codemirror_mode": {
    "name": "ipython",
    "version": 3
   },
   "file_extension": ".py",
   "mimetype": "text/x-python",
   "name": "python",
   "nbconvert_exporter": "python",
   "pygments_lexer": "ipython3",
   "version": "3.8.10"
  }
 },
 "nbformat": 4,
 "nbformat_minor": 1
}
